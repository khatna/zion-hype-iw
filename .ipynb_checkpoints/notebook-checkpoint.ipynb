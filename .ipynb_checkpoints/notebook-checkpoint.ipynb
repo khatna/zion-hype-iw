{
 "cells": [
  {
   "cell_type": "markdown",
   "metadata": {},
   "source": [
    "# Independent Work Project - Zion\n",
    "The goal of this project is to use methods in data science to predict the probability that every player in the first round of the 2019 NBA draft makes an All-NBA team throughout their careers.\n",
    "\n",
    "## Logistic Regression\n",
    "* Hello\n",
    "* Darkness"
   ]
  },
  {
   "cell_type": "code",
   "execution_count": 1,
   "metadata": {},
   "outputs": [],
   "source": [
    "%matplotlib notebook\n",
    "import numpy\n",
    "import matplotlib as np\n",
    "import pandas as pd\n",
    "from sklearn.model_selection import train_test_split\n",
    "from sklearn.linear_model import LogisticRegression\n",
    "from sklearn.feature_selection import RFE"
   ]
  },
  {
   "cell_type": "markdown",
   "metadata": {},
   "source": [
    "## Loading and preparing the data for analysis\n",
    "The data consists of the college basketball statistics of all first round picks who have played in the NCAA, since the 1990 NBA Draft. The columns consist of:\n",
    "* Points per game\n",
    "* Rebounds per game\n",
    "* Assists per game\n",
    "* Steals per game\n",
    "* etc. (add this later)"
   ]
  },
  {
   "cell_type": "code",
   "execution_count": 3,
   "metadata": {},
   "outputs": [
    {
     "name": "stdout",
     "output_type": "stream",
     "text": [
      "Shape of dataset: (445, 13)\n"
     ]
    }
   ],
   "source": [
    "NUM_COLS = 14\n",
    "\n",
    "# Loading data as Pandas dataframe\n",
    "df = pd.read_csv('data.csv', header=0)\n",
    "df = df._get_numeric_data()\n",
    "headers = list(df.columns)\n",
    "dataset = df.to_numpy()\n",
    "print('Shape of dataset:', dataset.shape)\n",
    "\n",
    "# Separate data into features and target\n",
    "x = dataset[:, 0:NUM_COLS-2]\n",
    "y = dataset[:, NUM_COLS-2]"
   ]
  },
  {
   "cell_type": "code",
   "execution_count": null,
   "metadata": {},
   "outputs": [],
   "source": []
  }
 ],
 "metadata": {
  "kernelspec": {
   "display_name": "Python 3",
   "language": "python",
   "name": "python3"
  },
  "language_info": {
   "codemirror_mode": {
    "name": "ipython",
    "version": 3
   },
   "file_extension": ".py",
   "mimetype": "text/x-python",
   "name": "python",
   "nbconvert_exporter": "python",
   "pygments_lexer": "ipython3",
   "version": "3.7.4"
  }
 },
 "nbformat": 4,
 "nbformat_minor": 2
}

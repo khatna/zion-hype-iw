{
 "cells": [
  {
   "cell_type": "markdown",
   "metadata": {},
   "source": [
    "# Independent Work Project\n",
    "The goal of this project is to use methods in data science to predict the probability that every player in the first round of the 2019 NBA draft makes an All-NBA team throughout their careers.\n",
    "\n",
    "### Anaconda\n",
    "We will use the Anaconda platform for Python for this project"
   ]
  },
  {
   "cell_type": "code",
   "execution_count": 268,
   "metadata": {},
   "outputs": [],
   "source": [
    "%matplotlib inline\n",
    "\n",
    "def warn(*args, **kwargs):\n",
    "    pass\n",
    "\n",
    "import warnings\n",
    "warnings.warn = warn\n",
    "\n",
    "import numpy as np\n",
    "import matplotlib.pyplot as plt\n",
    "import pandas as pd\n",
    "import seaborn as sn\n",
    "import sklearn.metrics as metrics\n",
    "from sklearn.model_selection import train_test_split, StratifiedKFold\n",
    "from sklearn.linear_model import LogisticRegression\n",
    "from sklearn.ensemble import RandomForestClassifier\n",
    "from sklearn.dummy import DummyClassifier\n",
    "from sklearn.preprocessing import StandardScaler\n",
    "from sklearn.metrics import confusion_matrix, roc_curve, auc\n",
    "from sklearn.model_selection import GridSearchCV, RandomizedSearchCV\n",
    "from sklearn.feature_selection import RFE\n",
    "from imblearn.pipeline import Pipeline\n",
    "from imblearn.over_sampling import ADASYN\n",
    "\n",
    "# Flags\n",
    "include_woh  = True\n",
    "include_pick = True"
   ]
  },
  {
   "cell_type": "markdown",
   "metadata": {},
   "source": [
    "### Loading and preparing the data for analysis\n",
    "The data consists of the college basketball statistics of all first round picks who have played in the NCAA, since the 1990 NBA Draft. The columns consist of:\n",
    "* Points per game\n",
    "* Rebounds per game\n",
    "* Assists per game\n",
    "* Steals per game\n",
    "* etc."
   ]
  },
  {
   "cell_type": "code",
   "execution_count": 269,
   "metadata": {},
   "outputs": [
    {
     "data": {
      "text/html": [
       "<div>\n",
       "<style scoped>\n",
       "    .dataframe tbody tr th:only-of-type {\n",
       "        vertical-align: middle;\n",
       "    }\n",
       "\n",
       "    .dataframe tbody tr th {\n",
       "        vertical-align: top;\n",
       "    }\n",
       "\n",
       "    .dataframe thead th {\n",
       "        text-align: right;\n",
       "    }\n",
       "</style>\n",
       "<table border=\"1\" class=\"dataframe\">\n",
       "  <thead>\n",
       "    <tr style=\"text-align: right;\">\n",
       "      <th></th>\n",
       "      <th>Player</th>\n",
       "      <th>Pick</th>\n",
       "      <th>RPG</th>\n",
       "      <th>APG</th>\n",
       "      <th>SPG</th>\n",
       "      <th>BPG</th>\n",
       "      <th>PPG</th>\n",
       "      <th>SOS</th>\n",
       "      <th>TS%</th>\n",
       "      <th>FTr</th>\n",
       "      <th>W/H</th>\n",
       "      <th>Age</th>\n",
       "      <th>All-NBA</th>\n",
       "    </tr>\n",
       "  </thead>\n",
       "  <tbody>\n",
       "    <tr>\n",
       "      <td>0</td>\n",
       "      <td>Derrick Coleman</td>\n",
       "      <td>1</td>\n",
       "      <td>12.1</td>\n",
       "      <td>2.9</td>\n",
       "      <td>1.5</td>\n",
       "      <td>2.0</td>\n",
       "      <td>17.9</td>\n",
       "      <td>8.85</td>\n",
       "      <td>0.620</td>\n",
       "      <td>0.747</td>\n",
       "      <td>2.80</td>\n",
       "      <td>23</td>\n",
       "      <td>1</td>\n",
       "    </tr>\n",
       "    <tr>\n",
       "      <td>1</td>\n",
       "      <td>Gary Payton</td>\n",
       "      <td>2</td>\n",
       "      <td>4.7</td>\n",
       "      <td>8.1</td>\n",
       "      <td>3.4</td>\n",
       "      <td>0.5</td>\n",
       "      <td>25.7</td>\n",
       "      <td>6.91</td>\n",
       "      <td>0.572</td>\n",
       "      <td>0.299</td>\n",
       "      <td>2.37</td>\n",
       "      <td>22</td>\n",
       "      <td>1</td>\n",
       "    </tr>\n",
       "    <tr>\n",
       "      <td>2</td>\n",
       "      <td>Mahmoud Abdul-Rauf</td>\n",
       "      <td>3</td>\n",
       "      <td>2.5</td>\n",
       "      <td>3.2</td>\n",
       "      <td>1.6</td>\n",
       "      <td>0.0</td>\n",
       "      <td>27.8</td>\n",
       "      <td>7.61</td>\n",
       "      <td>0.584</td>\n",
       "      <td>0.317</td>\n",
       "      <td>2.22</td>\n",
       "      <td>21</td>\n",
       "      <td>0</td>\n",
       "    </tr>\n",
       "    <tr>\n",
       "      <td>3</td>\n",
       "      <td>Dennis Scott</td>\n",
       "      <td>4</td>\n",
       "      <td>6.6</td>\n",
       "      <td>2.0</td>\n",
       "      <td>1.8</td>\n",
       "      <td>0.9</td>\n",
       "      <td>27.7</td>\n",
       "      <td>10.33</td>\n",
       "      <td>0.593</td>\n",
       "      <td>0.281</td>\n",
       "      <td>2.86</td>\n",
       "      <td>22</td>\n",
       "      <td>0</td>\n",
       "    </tr>\n",
       "    <tr>\n",
       "      <td>4</td>\n",
       "      <td>Kendall Gill</td>\n",
       "      <td>5</td>\n",
       "      <td>4.9</td>\n",
       "      <td>3.3</td>\n",
       "      <td>2.2</td>\n",
       "      <td>0.6</td>\n",
       "      <td>20.0</td>\n",
       "      <td>9.89</td>\n",
       "      <td>0.575</td>\n",
       "      <td>0.415</td>\n",
       "      <td>2.53</td>\n",
       "      <td>22</td>\n",
       "      <td>0</td>\n",
       "    </tr>\n",
       "  </tbody>\n",
       "</table>\n",
       "</div>"
      ],
      "text/plain": [
       "               Player  Pick   RPG  APG  SPG  BPG   PPG    SOS    TS%    FTr  \\\n",
       "0     Derrick Coleman     1  12.1  2.9  1.5  2.0  17.9   8.85  0.620  0.747   \n",
       "1         Gary Payton     2   4.7  8.1  3.4  0.5  25.7   6.91  0.572  0.299   \n",
       "2  Mahmoud Abdul-Rauf     3   2.5  3.2  1.6  0.0  27.8   7.61  0.584  0.317   \n",
       "3        Dennis Scott     4   6.6  2.0  1.8  0.9  27.7  10.33  0.593  0.281   \n",
       "4        Kendall Gill     5   4.9  3.3  2.2  0.6  20.0   9.89  0.575  0.415   \n",
       "\n",
       "    W/H  Age  All-NBA  \n",
       "0  2.80   23        1  \n",
       "1  2.37   22        1  \n",
       "2  2.22   21        0  \n",
       "3  2.86   22        0  \n",
       "4  2.53   22        0  "
      ]
     },
     "execution_count": 269,
     "metadata": {},
     "output_type": "execute_result"
    }
   ],
   "source": [
    "# Loading data as Pandas dataframe\n",
    "filename = 'data.csv' if include_woh else 'data_raw.csv'\n",
    "df = pd.read_csv(filename, header=0)\n",
    "if not include_pick: df = df.drop(['Pick'], axis=1)\n",
    "df.head()"
   ]
  },
  {
   "cell_type": "code",
   "execution_count": 270,
   "metadata": {},
   "outputs": [],
   "source": [
    "df = df._get_numeric_data()\n",
    "headers = list(df.columns)\n",
    "dataset = df.to_numpy()\n",
    "y_i = headers.index('All-NBA')\n",
    "    \n",
    "# Separate data into features and target\n",
    "x = dataset[:, 0:y_i]\n",
    "y = dataset[:, y_i]\n",
    "\n",
    "# Split the data into train and test sets\n",
    "x_train, x_test, y_train, y_test = train_test_split(x, y, test_size=0.25, stratify=y, random_state=42)"
   ]
  },
  {
   "cell_type": "markdown",
   "metadata": {},
   "source": [
    "# Predictive Models\n",
    "We will use the following models for the following reasons...\n",
    "\n",
    "## 1. Logistic Regression Model\n",
    "Our first model will be a logistic regression model, using the default sklearn parameters.\n"
   ]
  },
  {
   "cell_type": "code",
   "execution_count": 271,
   "metadata": {},
   "outputs": [],
   "source": [
    "log = Pipeline([\n",
    "    ('scaler', StandardScaler()),\n",
    "    ('RFE', RFE(LogisticRegression(solver='liblinear'))),\n",
    "    ('LOG', LogisticRegression(solver='liblinear'))\n",
    "])\n",
    "\n",
    "log_os = Pipeline([\n",
    "    ('scaler', StandardScaler()),\n",
    "    ('OS', ADASYN()),\n",
    "    ('RFE', RFE(LogisticRegression(solver='liblinear'))),\n",
    "    ('LOG', LogisticRegression(solver='liblinear'))\n",
    "])\n",
    "\n",
    "n_features_to_select = [5,6,7,8,9]\n",
    "penalty = ['l1', 'l2']\n",
    "C = [0.001, 0.1, 1, 10, 100, 1000]\n",
    "\n",
    "param_grid = [\n",
    "    {\n",
    "        'RFE__n_features_to_select': n_features_to_select,\n",
    "        'LOG__penalty': penalty,\n",
    "        'LOG__C': C\n",
    "    }\n",
    "]\n",
    "\n",
    "model_log = GridSearchCV(log, param_grid=param_grid, cv=5, scoring='f1')\n",
    "model_log_os = GridSearchCV(log_os, param_grid=param_grid, cv=5, scoring='f1')"
   ]
  },
  {
   "cell_type": "markdown",
   "metadata": {},
   "source": [
    "## 2. Random Forest Classifier\n",
    "For the Random Forest Classifier (RFC) we use randomized search with cross validation to achieve a shorter training time."
   ]
  },
  {
   "cell_type": "code",
   "execution_count": 272,
   "metadata": {},
   "outputs": [],
   "source": [
    "rfc = Pipeline([\n",
    "    ('scaler', StandardScaler()),\n",
    "    ('RFE', RFE(RandomForestClassifier(n_estimators=10))),\n",
    "    ('RFC', RandomForestClassifier())  \n",
    "])\n",
    "\n",
    "rfc_os = Pipeline([\n",
    "    ('scaler', StandardScaler()),\n",
    "    ('OS', ADASYN()),\n",
    "    ('RFE', RFE(RandomForestClassifier(n_estimators=10))),\n",
    "    ('RFC', RandomForestClassifier())\n",
    "])\n",
    "\n",
    "n_features_to_select = [5, 6, 7, 8, 9]\n",
    "n_estimators = [int(x) for x in np.linspace(start = 50, stop = 200, num = 15)]\n",
    "max_features = ['auto', 'sqrt']\n",
    "max_depth = [int(x) for x in np.linspace(10, 50, num = 10)]\n",
    "max_depth.append(None)\n",
    "                \n",
    "param_grid = {\n",
    "    'RFE__n_features_to_select': n_features_to_select,\n",
    "    'RFC__n_estimators': n_estimators,\n",
    "    'RFC__max_features': max_features,\n",
    "    'RFC__max_depth': max_depth\n",
    "}\n",
    "                \n",
    "model_rfc_os = RandomizedSearchCV(rfc_os, param_distributions=param_grid, cv=3, n_iter=50, scoring='f1')\n",
    "model_rfc = RandomizedSearchCV(rfc, param_distributions=param_grid, cv=3, n_iter=50, scoring='f1')"
   ]
  },
  {
   "cell_type": "code",
   "execution_count": 273,
   "metadata": {},
   "outputs": [
    {
     "data": {
      "text/plain": [
       "\"\\nparam_grid = {\\n    'RFE__n_features_to_select': [6, 7, 8],\\n    'RFC__max_features': ['auto', 'sqrt'],\\n    'RFC__max_depth': [10, 15, 20],\\n    'RFC__n_estimators': [40, 45, 50, 55]\\n}\\n\\nmodel_rfc_os = GridSearchCV(rfc_os, param_grid=param_grid, cv=5, scoring='f1')\\nmodel_rfc = GridSearchCV(rfc, param_grid=param_grid, cv=5, scoring='f1')\\n\""
      ]
     },
     "execution_count": 273,
     "metadata": {},
     "output_type": "execute_result"
    }
   ],
   "source": [
    "# If using grid search for Random Forest Classifier:\n",
    "'''\n",
    "param_grid = {\n",
    "    'RFE__n_features_to_select': [6, 7, 8],\n",
    "    'RFC__max_features': ['auto', 'sqrt'],\n",
    "    'RFC__max_depth': [10, 15, 20],\n",
    "    'RFC__n_estimators': [40, 45, 50, 55]\n",
    "}\n",
    "\n",
    "model_rfc_os = GridSearchCV(rfc_os, param_grid=param_grid, cv=5, scoring='f1')\n",
    "model_rfc = GridSearchCV(rfc, param_grid=param_grid, cv=5, scoring='f1')\n",
    "'''"
   ]
  },
  {
   "cell_type": "markdown",
   "metadata": {},
   "source": [
    "# Evaluating the Models\n",
    "We will now look at a few methods of evaluating the models we've created"
   ]
  },
  {
   "cell_type": "code",
   "execution_count": 274,
   "metadata": {},
   "outputs": [],
   "source": [
    "# Evaluation method\n",
    "def evaluate(model, model_name, RFE=True):\n",
    "    model.fit(x_train, y_train)\n",
    "    pred = model.predict(x_test)\n",
    "    \n",
    "    # Confusion matrix\n",
    "    xlabels=['Predicted 0', 'Predicted 1']\n",
    "    ylabels=['Actual 0', 'Actual 1']\n",
    "    \n",
    "    plt.subplot(121, aspect='equal')\n",
    "    plt.title('Confusion Matrix - %s' % model_name)\n",
    "    cm = confusion_matrix(y_test, pred)\n",
    "    df_cm = pd.DataFrame(cm, range(2), range(2))\n",
    "    ax = sn.heatmap(df_cm, annot=True, xticklabels=xlabels, yticklabels=ylabels, cbar=False)\n",
    "    ax.set_ylim(2, 0) # workaround for cut-off bug\n",
    "    \n",
    "    # ROC Curve\n",
    "    probs = model.predict_proba(x_test)[:,1]\n",
    "    fpr, tpr, threshold = roc_curve(y_test, probs)\n",
    "    roc_auc = auc(fpr, tpr)\n",
    "    \n",
    "    plt.subplot(122, aspect='equal')\n",
    "    plt.title('ROC Curve - %s' % model_name)\n",
    "    plt.plot(fpr, tpr, 'b', label = 'AUC = %0.2f' % roc_auc)\n",
    "    plt.legend(loc = 'lower right')\n",
    "    plt.plot([0, 1], [0, 1],'r--')\n",
    "    plt.xlim([0, 1])\n",
    "    plt.ylim([0, 1])\n",
    "    plt.ylabel('True Positive Rate')\n",
    "    plt.xlabel('False Positive Rate')\n",
    "    \n",
    "    plt.tight_layout()\n",
    "    plt.show()\n",
    "    \n",
    "    \n",
    "    # Accuracy, recall, precision and F1, and best parameters\n",
    "    print('Accuracy of \"%s\" model: %.3f' % (model_name, metrics.accuracy_score(y_test, pred)))\n",
    "    print('Recall of \"%s\" model: %.3f' % (model_name, metrics.recall_score(y_test, pred)))\n",
    "    print('Precision of \"%s\" model: %.3f' % (model_name, metrics.precision_score(y_test, pred)))\n",
    "    print('F1 of \"%s\" model: %.3f' % (model_name, metrics.f1_score(y_test, pred)))\n",
    "    \n",
    "    # If the model used feature selection:\n",
    "    if RFE:\n",
    "        print('\\n')\n",
    "        print('Hyperparameters:',model.best_params_)\n",
    "        rfe = model.best_estimator_.named_steps['RFE']\n",
    "        print('Selected features:',[headers[i] for i in rfe.get_support(indices=True)])\n",
    "        "
   ]
  },
  {
   "cell_type": "markdown",
   "metadata": {},
   "source": [
    "### Dummy Classifier\n",
    "A dummy classifier assigns labels randomly, according to the distribution of classes in the training set"
   ]
  },
  {
   "cell_type": "code",
   "execution_count": 275,
   "metadata": {
    "scrolled": true
   },
   "outputs": [],
   "source": [
    "dummy = DummyClassifier(strategy='stratified')"
   ]
  },
  {
   "cell_type": "code",
   "execution_count": 276,
   "metadata": {},
   "outputs": [
    {
     "data": {
      "image/png": "[encoded data removed]",
      "text/plain": [
       "<Figure size 432x288 with 2 Axes>"
      ]
     },
     "metadata": {
      "needs_background": "light"
     },
     "output_type": "display_data"
    },
    {
     "name": "stdout",
     "output_type": "stream",
     "text": [
      "Accuracy of \"Dummy\" model: 0.795\n",
      "Recall of \"Dummy\" model: 0.200\n",
      "Precision of \"Dummy\" model: 0.214\n",
      "F1 of \"Dummy\" model: 0.207\n"
     ]
    }
   ],
   "source": [
    "evaluate(dummy, 'Dummy', RFE=False)"
   ]
  },
  {
   "cell_type": "markdown",
   "metadata": {},
   "source": [
    "## Logistic Regression\n",
    "LOG model, with and without ADASYN oversampling"
   ]
  },
  {
   "cell_type": "code",
   "execution_count": 277,
   "metadata": {},
   "outputs": [
    {
     "data": {
      "image/png": "[encoded data removed]",
      "text/plain": [
       "<Figure size 432x288 with 2 Axes>"
      ]
     },
     "metadata": {
      "needs_background": "light"
     },
     "output_type": "display_data"
    },
    {
     "name": "stdout",
     "output_type": "stream",
     "text": [
      "Accuracy of \"LOG\" model: 0.875\n",
      "Recall of \"LOG\" model: 0.133\n",
      "Precision of \"LOG\" model: 0.667\n",
      "F1 of \"LOG\" model: 0.222\n",
      "\n",
      "\n",
      "Hyperparameters: {'LOG__C': 1, 'LOG__penalty': 'l2', 'RFE__n_features_to_select': 9}\n",
      "Selected features: ['Pick', 'RPG', 'APG', 'SPG', 'BPG', 'SOS', 'FTr', 'W/H', 'Age']\n"
     ]
    },
    {
     "data": {
      "image/png": "[encoded data removed]",
      "text/plain": [
       "<Figure size 432x288 with 2 Axes>"
      ]
     },
     "metadata": {
      "needs_background": "light"
     },
     "output_type": "display_data"
    },
    {
     "name": "stdout",
     "output_type": "stream",
     "text": [
      "Accuracy of \"LOG ADASYN\" model: 0.732\n",
      "Recall of \"LOG ADASYN\" model: 0.733\n",
      "Precision of \"LOG ADASYN\" model: 0.297\n",
      "F1 of \"LOG ADASYN\" model: 0.423\n",
      "\n",
      "\n",
      "Hyperparameters: {'LOG__C': 1, 'LOG__penalty': 'l2', 'RFE__n_features_to_select': 6}\n",
      "Selected features: ['Pick', 'RPG', 'APG', 'SPG', 'W/H', 'Age']\n"
     ]
    }
   ],
   "source": [
    "evaluate(model_log, 'LOG')\n",
    "evaluate(model_log_os, 'LOG ADASYN')"
   ]
  },
  {
   "cell_type": "code",
   "execution_count": 278,
   "metadata": {},
   "outputs": [
    {
     "data": {
      "image/png": "[encoded data removed]",
      "text/plain": [
       "<Figure size 432x288 with 2 Axes>"
      ]
     },
     "metadata": {
      "needs_background": "light"
     },
     "output_type": "display_data"
    },
    {
     "name": "stdout",
     "output_type": "stream",
     "text": [
      "Accuracy of \"RFC\" model: 0.848\n",
      "Recall of \"RFC\" model: 0.133\n",
      "Precision of \"RFC\" model: 0.333\n",
      "F1 of \"RFC\" model: 0.190\n",
      "\n",
      "\n",
      "Hyperparameters: {'RFE__n_features_to_select': 4, 'RFC__n_estimators': 82, 'RFC__max_features': 'sqrt', 'RFC__max_depth': 45}\n",
      "Selected features: ['Pick', 'APG', 'FTr', 'W/H']\n"
     ]
    },
    {
     "data": {
      "image/png": "[encoded data removed]",
      "text/plain": [
       "<Figure size 432x288 with 2 Axes>"
      ]
     },
     "metadata": {
      "needs_background": "light"
     },
     "output_type": "display_data"
    },
    {
     "name": "stdout",
     "output_type": "stream",
     "text": [
      "Accuracy of \"RFC ADASYN\" model: 0.821\n",
      "Recall of \"RFC ADASYN\" model: 0.400\n",
      "Precision of \"RFC ADASYN\" model: 0.353\n",
      "F1 of \"RFC ADASYN\" model: 0.375\n",
      "\n",
      "\n",
      "Hyperparameters: {'RFE__n_features_to_select': 5, 'RFC__n_estimators': 60, 'RFC__max_features': 'sqrt', 'RFC__max_depth': 36}\n",
      "Selected features: ['Pick', 'RPG', 'APG', 'BPG', 'Age']\n"
     ]
    }
   ],
   "source": [
    "evaluate(model_rfc, 'RFC')\n",
    "evaluate(model_rfc_os, 'RFC ADASYN')"
   ]
  },
  {
   "cell_type": "markdown",
   "metadata": {},
   "source": [
    "# Results on 2019 Rookies"
   ]
  },
  {
   "cell_type": "code",
   "execution_count": 279,
   "metadata": {},
   "outputs": [],
   "source": [
    "# Loading data as Pandas dataframe\n",
    "filename = 'rookies.csv' if include_woh else 'rookies_raw.csv'\n",
    "df = pd.read_csv(filename, header=0)\n",
    "if not include_pick: df = df.drop(['Pick'], axis=1)\n",
    "stats = df._get_numeric_data()\n",
    "rookies = stats.to_numpy()\n",
    "\n",
    "def pred_rookies(model, model_name):\n",
    "    pred = model.predict_proba(rookies)\n",
    "\n",
    "    print('Predicted probabilities (%s)' % model_name)\n",
    "    print('==================================')\n",
    "    for i in range(len(pred)):\n",
    "        print('%-27s %.2f ' % (df['Player'][i], pred[i][1]))"
   ]
  },
  {
   "cell_type": "code",
   "execution_count": 280,
   "metadata": {},
   "outputs": [
    {
     "name": "stdout",
     "output_type": "stream",
     "text": [
      "Predicted probabilities (LOG)\n",
      "==================================\n",
      "Zion Williamson             0.83 \n",
      "Ja Morant                   0.84 \n",
      "RJ Barrett                  0.35 \n",
      "De'Andre Hunter             0.06 \n",
      "Darius Garland              0.11 \n",
      "Jarrett Culver              0.21 \n",
      "Coby White                  0.14 \n",
      "Jaxson Hayes                0.05 \n",
      "Rui Hachimura               0.06 \n",
      "Cam Reddish                 0.07 \n",
      "Cameron Johnson             0.02 \n",
      "PJ Washington               0.04 \n",
      "Tyler Herro                 0.05 \n",
      "Romeo Langford              0.03 \n",
      "Chuma Okeke                 0.04 \n",
      "Nickeil Alexander-Walker    0.04 \n",
      "Matisse Thybulle            0.04 \n",
      "Predicted probabilities (LOG ADASYN)\n",
      "==================================\n",
      "Zion Williamson             0.99 \n",
      "Ja Morant                   0.96 \n",
      "RJ Barrett                  0.82 \n",
      "De'Andre Hunter             0.26 \n",
      "Darius Garland              0.38 \n",
      "Jarrett Culver              0.65 \n",
      "Coby White                  0.50 \n",
      "Jaxson Hayes                0.22 \n",
      "Rui Hachimura               0.26 \n",
      "Cam Reddish                 0.34 \n",
      "Cameron Johnson             0.04 \n",
      "PJ Washington               0.20 \n",
      "Tyler Herro                 0.24 \n",
      "Romeo Langford              0.17 \n",
      "Chuma Okeke                 0.23 \n",
      "Nickeil Alexander-Walker    0.20 \n",
      "Matisse Thybulle            0.12 \n",
      "Predicted probabilities (RFC)\n",
      "==================================\n",
      "Zion Williamson             0.63 \n",
      "Ja Morant                   0.74 \n",
      "RJ Barrett                  0.45 \n",
      "De'Andre Hunter             0.34 \n",
      "Darius Garland              0.27 \n",
      "Jarrett Culver              0.21 \n",
      "Coby White                  0.21 \n",
      "Jaxson Hayes                0.20 \n",
      "Rui Hachimura               0.00 \n",
      "Cam Reddish                 0.45 \n",
      "Cameron Johnson             0.00 \n",
      "PJ Washington               0.00 \n",
      "Tyler Herro                 0.02 \n",
      "Romeo Langford              0.00 \n",
      "Chuma Okeke                 0.21 \n",
      "Nickeil Alexander-Walker    0.07 \n",
      "Matisse Thybulle            0.00 \n",
      "Predicted probabilities (RFC ADASYN)\n",
      "==================================\n",
      "Zion Williamson             0.68 \n",
      "Ja Morant                   0.73 \n",
      "RJ Barrett                  0.48 \n",
      "De'Andre Hunter             0.13 \n",
      "Darius Garland              0.33 \n",
      "Jarrett Culver              0.45 \n",
      "Coby White                  0.38 \n",
      "Jaxson Hayes                0.55 \n",
      "Rui Hachimura               0.03 \n",
      "Cam Reddish                 0.13 \n",
      "Cameron Johnson             0.00 \n",
      "PJ Washington               0.10 \n",
      "Tyler Herro                 0.17 \n",
      "Romeo Langford              0.40 \n",
      "Chuma Okeke                 0.13 \n",
      "Nickeil Alexander-Walker    0.12 \n",
      "Matisse Thybulle            0.05 \n"
     ]
    }
   ],
   "source": [
    "pred_rookies(model_log, \"LOG\")\n",
    "pred_rookies(model_log_os, \"LOG ADASYN\")\n",
    "pred_rookies(model_rfc, \"RFC\")\n",
    "pred_rookies(model_rfc_os, \"RFC ADASYN\")"
   ]
  },
  {
   "cell_type": "code",
   "execution_count": null,
   "metadata": {},
   "outputs": [],
   "source": []
  }
 ],
 "metadata": {
  "kernelspec": {
   "display_name": "Python 3",
   "language": "python",
   "name": "python3"
  },
  "language_info": {
   "codemirror_mode": {
    "name": "ipython",
    "version": 3
   },
   "file_extension": ".py",
   "mimetype": "text/x-python",
   "name": "python",
   "nbconvert_exporter": "python",
   "pygments_lexer": "ipython3",
   "version": "3.7.4"
  }
 },
 "nbformat": 4,
 "nbformat_minor": 2
}

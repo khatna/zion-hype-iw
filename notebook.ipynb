{
 "cells": [
  {
   "cell_type": "markdown",
   "metadata": {},
   "source": [
    "# Independent Work Project - Zion\n",
    "The goal of this project is to use methods in data science to predict the probability that every player in the first round of the 2019 NBA draft makes an All-NBA team throughout their careers.\n",
    "\n",
    "### Anaconda\n",
    "We will use the Anaconda platform for Python for this project"
   ]
  },
  {
   "cell_type": "code",
   "execution_count": 75,
   "metadata": {},
   "outputs": [],
   "source": [
    "%matplotlib inline\n",
    "import numpy as np\n",
    "import matplotlib.pyplot as plt\n",
    "import pandas as pd\n",
    "import seaborn as sn\n",
    "from sklearn.model_selection import train_test_split\n",
    "from sklearn.feature_selection import RFE\n",
    "from sklearn.linear_model import LogisticRegression\n",
    "from sklearn.dummy import DummyClassifier\n",
    "import sklearn.metrics as metrics\n",
    "import sklearn.preprocessing as preprocessing\n",
    "from sklearn.metrics import confusion_matrix\n",
    "\n",
    "# Classification trees(ensembles)\n",
    "\n",
    "# Random forest has built in feature selection (?) \n",
    "\n",
    "# Will perform feature selection?\n",
    "will_fs = False\n",
    "will_normalize = False"
   ]
  },
  {
   "cell_type": "markdown",
   "metadata": {},
   "source": [
    "### Loading and preparing the data for analysis\n",
    "The data consists of the college basketball statistics of all first round picks who have played in the NCAA, since the 1990 NBA Draft. The columns consist of:\n",
    "* Points per game\n",
    "* Rebounds per game\n",
    "* Assists per game\n",
    "* Steals per game\n",
    "* etc. (add this later)"
   ]
  },
  {
   "cell_type": "code",
   "execution_count": 76,
   "metadata": {},
   "outputs": [
    {
     "name": "stdout",
     "output_type": "stream",
     "text": [
      "Shape of full dataset: (445, 13)\n"
     ]
    }
   ],
   "source": [
    "NUM_COLS = 14\n",
    "\n",
    "# Loading data as Pandas dataframe\n",
    "df = pd.read_csv('data.csv', header=0)\n",
    "df = df._get_numeric_data()\n",
    "headers = list(df.columns)\n",
    "dataset = df.to_numpy()\n",
    "print('Shape of full dataset:', dataset.shape)\n",
    "\n",
    "# Separate data into features and target\n",
    "x = dataset[:, 0:NUM_COLS-2]\n",
    "y = dataset[:, NUM_COLS-2]\n",
    "\n",
    "# Normalize data?\n",
    "if will_normalize:\n",
    "    min_max_scaler = preprocessing.MinMaxScaler()\n",
    "    x = min_max_scaler.fit_transform(x)"
   ]
  },
  {
   "cell_type": "code",
   "execution_count": 77,
   "metadata": {},
   "outputs": [
    {
     "name": "stdout",
     "output_type": "stream",
     "text": [
      "Shape of training dataset: (333, 12)\n",
      "Shape of testing dataset: (112, 12)\n"
     ]
    }
   ],
   "source": [
    "# Split the data into train and test sets\n",
    "x_train, x_test, y_train, y_test = train_test_split(x, y, test_size=0.25)\n",
    "print('Shape of training dataset:', x_train.shape)\n",
    "print('Shape of testing dataset:', x_test.shape)"
   ]
  },
  {
   "cell_type": "markdown",
   "metadata": {},
   "source": [
    "### Feature Selection"
   ]
  },
  {
   "cell_type": "markdown",
   "metadata": {},
   "source": [
    "# The Predictive Models\n",
    "We will use the following models for the following reasons...\n",
    "\n",
    "## 1. Logistic Regression Model\n",
    "Our first model will be a logistic regression model, using the default sklearn parameters.\n"
   ]
  },
  {
   "cell_type": "code",
   "execution_count": 78,
   "metadata": {},
   "outputs": [],
   "source": [
    "model_log = LogisticRegression(solver='liblinear')"
   ]
  },
  {
   "cell_type": "markdown",
   "metadata": {},
   "source": [
    "# Evaluating the Models\n",
    "We will now look at a few methods of evaluating the models we've created"
   ]
  },
  {
   "cell_type": "code",
   "execution_count": 135,
   "metadata": {},
   "outputs": [],
   "source": [
    "# Evaluation method\n",
    "def evaluate(model, model_name):\n",
    "    model.fit(x_train, y_train)\n",
    "    pred = model.predict(x_test)\n",
    "    \n",
    "    # Accuracy, recall, precision and F1\n",
    "    print('Accuracy of \"%s\" model: %.3f' % (model_name, metrics.accuracy_score(y_test, pred)))\n",
    "    print('Recall of \"%s\" model: %.3f' % (model_name, metrics.recall_score(y_test, pred)))\n",
    "    print('Precision of \"%s\" model: %.3f' % (model_name, metrics.precision_score(y_test, pred)))\n",
    "    print('F1 of \"%s\" model: %.3f' % (model_name, metrics.f1_score(y_test, pred)))\n",
    "\n",
    "    # Confusion matrix\n",
    "    cm = confusion_matrix(y_test, pred)\n",
    "    df_cm = pd.DataFrame(cm, range(2), range(2))\n",
    "    ax = sn.heatmap(df_cm, annot=True)\n",
    "    ax.set_ylim(2, 0) # workaround for cut-off bug\n",
    "    plt.show()"
   ]
  },
  {
   "cell_type": "markdown",
   "metadata": {},
   "source": [
    "### Dummy Classifier\n",
    "A dummy classifier assigns labels randomly, according to the distribution of classes in the training set"
   ]
  },
  {
   "cell_type": "code",
   "execution_count": 136,
   "metadata": {
    "scrolled": true
   },
   "outputs": [],
   "source": [
    "dummy = DummyClassifier(strategy='stratified')"
   ]
  },
  {
   "cell_type": "code",
   "execution_count": 137,
   "metadata": {},
   "outputs": [
    {
     "name": "stdout",
     "output_type": "stream",
     "text": [
      "Accuracy of \"Dummy\" model: 0.732\n",
      "Recall of \"Dummy\" model: 0.167\n",
      "Precision of \"Dummy\" model: 0.091\n",
      "F1 of \"Dummy\" model: 0.118\n"
     ]
    },
    {
     "data": {
      "image/png": "[encoded data removed]",
      "text/plain": [
       "<Figure size 432x288 with 2 Axes>"
      ]
     },
     "metadata": {},
     "output_type": "display_data"
    }
   ],
   "source": [
    "evaluate(dummy, 'Dummy')"
   ]
  },
  {
   "cell_type": "code",
   "execution_count": 138,
   "metadata": {},
   "outputs": [
    {
     "name": "stdout",
     "output_type": "stream",
     "text": [
      "Accuracy of \"logistic\" model: 0.911\n",
      "Recall of \"logistic\" model: 0.333\n",
      "Precision of \"logistic\" model: 0.667\n",
      "F1 of \"logistic\" model: 0.444\n"
     ]
    },
    {
     "data": {
      "image/png": "[encoded data removed]",
      "text/plain": [
       "<Figure size 432x288 with 2 Axes>"
      ]
     },
     "metadata": {},
     "output_type": "display_data"
    }
   ],
   "source": [
    "evaluate(model_log, 'logistic')"
   ]
  },
  {
   "cell_type": "code",
   "execution_count": null,
   "metadata": {},
   "outputs": [],
   "source": []
  },
  {
   "cell_type": "code",
   "execution_count": null,
   "metadata": {},
   "outputs": [],
   "source": []
  }
 ],
 "metadata": {
  "kernelspec": {
   "display_name": "Python 3",
   "language": "python",
   "name": "python3"
  },
  "language_info": {
   "codemirror_mode": {
    "name": "ipython",
    "version": 3
   },
   "file_extension": ".py",
   "mimetype": "text/x-python",
   "name": "python",
   "nbconvert_exporter": "python",
   "pygments_lexer": "ipython3",
   "version": "3.7.4"
  }
 },
 "nbformat": 4,
 "nbformat_minor": 2
}
